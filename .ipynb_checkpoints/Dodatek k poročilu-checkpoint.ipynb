{
 "cells": [
  {
   "cell_type": "markdown",
   "metadata": {},
   "source": [
    "## PR20ZJMHZK\n",
    "\n",
    "# Dodatek k poročilu\n",
    "\n",
    "---\n",
    "\n",
    "### 1.\n",
    "<img src=\"./images/slika10.png\" alt=\"Razmerje strelov z goli\" width=\"80%\"/>  \n",
    "  \n",
    "Graf je podoben prejšnjemu vendar ta kaže učinkovitost strelov ekip glede na dosežene gole. Vidimo da je na vrhu Arsenal, ki z razmerjem 0.15 gola na strel doseže gol skoraj vsaki sedmi strel. Kot pa smo videli na prejšnjih grafih, to ne pomeni, da je ekipa uspešna, saj je Arsenal šele na petem mestu po številu točk.  \n",
    "Iz tega lahko sklepamo da imajo ekipe kot so Arsenal bodisi premalo strelov na gol, kar vidimo na prejšnjem grafu, bodisi preslabo obrambno igro, kar največkrat velja za ekipe v spodnji polovici lestvice, kot je npr. Burnley, ki na tem grafu zaseda četrto mesto, po točkah je pa na 14. mestu.  \n",
    "\n",
    "---\n",
    "\n",
    "### 2.\n",
    "<img src=\"./images/slika12.png\" alt=\"Variacija v točkah ekip skozi sezono\" width=\"60%\"/> \n",
    "\n",
    "---\n",
    "\n",
    "### 3.\n",
    "<img src=\"./images/slika13.png\" alt=\"Potek sezone za Leicester\" width=\"70%\"/> \n",
    "\n",
    "--- \n",
    "\n",
    "### 4.\n",
    "<img src=\"./images/slika17.png\" alt=\"Potek sezone za Leicester\" width=\"70%\"/>\n",
    "\n",
    "---\n",
    "\n",
    "\n"
   ]
  }
 ],
 "metadata": {
  "kernelspec": {
   "display_name": "Python 3",
   "language": "python",
   "name": "python3"
  },
  "language_info": {
   "codemirror_mode": {
    "name": "ipython",
    "version": 3
   },
   "file_extension": ".py",
   "mimetype": "text/x-python",
   "name": "python",
   "nbconvert_exporter": "python",
   "pygments_lexer": "ipython3",
   "version": "3.7.0"
  },
  "latex_envs": {
   "LaTeX_envs_menu_present": true,
   "autoclose": false,
   "autocomplete": true,
   "bibliofile": "biblio.bib",
   "cite_by": "apalike",
   "current_citInitial": 1,
   "eqLabelWithNumbers": true,
   "eqNumInitial": 1,
   "hotkeys": {
    "equation": "Ctrl-E",
    "itemize": "Ctrl-I"
   },
   "labels_anchors": false,
   "latex_user_defs": false,
   "report_style_numbering": false,
   "user_envs_cfg": false
  },
  "nbTranslate": {
   "displayLangs": [
    "*"
   ],
   "hotkey": "alt-t",
   "langInMainMenu": true,
   "sourceLang": "en",
   "targetLang": "fr",
   "useGoogleTranslate": true
  }
 },
 "nbformat": 4,
 "nbformat_minor": 2
}
