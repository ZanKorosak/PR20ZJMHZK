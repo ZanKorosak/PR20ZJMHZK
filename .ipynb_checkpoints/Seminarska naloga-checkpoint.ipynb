{
 "cells": [
  {
   "cell_type": "code",
   "execution_count": 10,
   "metadata": {},
   "outputs": [],
   "source": [
    "import collections\n",
    "from csv import DictReader\n",
    "\n",
    "import numpy as np\n",
    "import matplotlib.pyplot as plt"
   ]
  },
  {
   "cell_type": "code",
   "execution_count": 11,
   "metadata": {},
   "outputs": [],
   "source": [
    "season16_17 = DictReader(open('podatki/season-1617_csv.csv', 'rt', encoding='utf-8'))\n",
    "season17_18 = DictReader(open('podatki/season-1718_csv.csv', 'rt', encoding='utf-8'))\n",
    "season18_19 = DictReader(open('podatki/season-1819_csv.csv', 'rt', encoding='utf-8'))"
   ]
  },
  {
   "cell_type": "code",
   "execution_count": 13,
   "metadata": {},
   "outputs": [],
   "source": [
    "class Referee:\n",
    "    '''\n",
    "    Podatki na voljo v zvezi s sodnikom:\n",
    "        Referee = Match Referee\n",
    "        HF = Home Team Fouls Committed\n",
    "        AF = Away Team Fouls Committed\n",
    "        HO = Home Team Offsides\n",
    "        AO = Away Team Offsides\n",
    "        HY = Home Team Yellow Cards\n",
    "        AY = Away Team Yellow Cards\n",
    "        HR = Home Team Red Cards\n",
    "        AR = Away Team Red Cards\n",
    "        HBP = Home Team Bookings Points (10 = yellow, 25 = red)\n",
    "        ABP = Away Team Bookings Points (10 = yellow, 25 = red)\n",
    "    '''\n",
    "\n",
    "    # dict  {ime priimek: objekt}\n",
    "    # dict[imepriimek].refereed_games\n",
    "\n",
    "    def __init__(self, name):\n",
    "        # Ime sodnika v formatu \"Ime Priimek\"\n",
    "\n",
    "        self.name = name\n",
    "\n",
    "        # Sojene tekme: tekme v katerih je bil glaven sodnik\n",
    "        # Dodajajo se objekti \"Match\"\n",
    "        self.refereed_games = []\n",
    "\n",
    "        # Rumeni kartoni (razdeljeni na domače/goste):\n",
    "        self.yellow_cards_home = 0\n",
    "        self.yellow_cards_away = 0\n",
    "\n",
    "        # Rdeči kartoni:\n",
    "        self.red_cards_home = 0\n",
    "        self.red_cards_away = 0\n",
    "\n",
    "        # Skupno število točk od kartonov (10 = rumen, 25 = rdeč)\n",
    "        self.bookings_points = 0\n",
    "\n",
    "        #Piskani prekrški\n",
    "        self.home_team_fouls = 0\n",
    "        self.away_team_fouls = 0\n",
    "\n",
    "    def add_all(self, cards, match):\n",
    "        add_cards(cards)\n",
    "        add_match(match)\n",
    "        \n",
    "    def add_cards(self, cards):\n",
    "        # cards seznam kartonov v formatu [hy, ay, hr, ar]\n",
    "        hy = cards[0]\n",
    "        ay = cards[1]\n",
    "        hr = cards[2]\n",
    "        ar = cards[3]\n",
    "        self.yellow_cards_home += hy\n",
    "        self.yellow_cards_away += ay\n",
    "        self.red_cards_home += hr\n",
    "        self.red_cards_away += ar\n",
    "\n",
    "        self.bookings_points += (hy + ay) * 10 + (hr + ar) * 25\n",
    "\n",
    "    def add_match(self, match):\n",
    "        self.refereed_games.append(match)\n",
    "\n",
    "    def to_string(self):\n",
    "        return(self.name)"
   ]
  },
  {
   "cell_type": "code",
   "execution_count": 19,
   "metadata": {},
   "outputs": [
    {
     "name": "stdout",
     "output_type": "stream",
     "text": [
      "L Mason\n",
      "R East\n",
      "A Taylor\n",
      "J Moss\n",
      "M Clattenburg\n",
      "C Pawson\n",
      "M Jones\n",
      "M Dean\n",
      "M Oliver\n",
      "M Oliver\n"
     ]
    },
    {
     "ename": "NameError",
     "evalue": "name 'Match' is not defined",
     "output_type": "error",
     "traceback": [
      "\u001b[1;31m---------------------------------------------------------------------------\u001b[0m",
      "\u001b[1;31mNameError\u001b[0m                                 Traceback (most recent call last)",
      "\u001b[1;32m<ipython-input-19-eab9fc2bdb83>\u001b[0m in \u001b[0;36m<module>\u001b[1;34m\u001b[0m\n\u001b[0;32m     38\u001b[0m \u001b[1;33m\u001b[0m\u001b[0m\n\u001b[0;32m     39\u001b[0m \u001b[1;31m#    print(f\"{home_team}   {away_team}\")\u001b[0m\u001b[1;33m\u001b[0m\u001b[1;33m\u001b[0m\u001b[1;33m\u001b[0m\u001b[0m\n\u001b[1;32m---> 40\u001b[1;33m \u001b[0mread_data\u001b[0m\u001b[1;33m(\u001b[0m\u001b[0mseason16_17\u001b[0m\u001b[1;33m)\u001b[0m\u001b[1;33m\u001b[0m\u001b[1;33m\u001b[0m\u001b[0m\n\u001b[0m\u001b[0;32m     41\u001b[0m \u001b[0mread_data\u001b[0m\u001b[1;33m(\u001b[0m\u001b[0mseason17_18\u001b[0m\u001b[1;33m)\u001b[0m\u001b[1;33m\u001b[0m\u001b[1;33m\u001b[0m\u001b[0m\n\u001b[0;32m     42\u001b[0m \u001b[0mread_data\u001b[0m\u001b[1;33m(\u001b[0m\u001b[0mseason18_19\u001b[0m\u001b[1;33m)\u001b[0m\u001b[1;33m\u001b[0m\u001b[1;33m\u001b[0m\u001b[0m\n",
      "\u001b[1;32m<ipython-input-19-eab9fc2bdb83>\u001b[0m in \u001b[0;36mread_data\u001b[1;34m(data)\u001b[0m\n\u001b[0;32m     32\u001b[0m             \u001b[0mreferees\u001b[0m\u001b[1;33m[\u001b[0m\u001b[0mreferee\u001b[0m\u001b[1;33m]\u001b[0m \u001b[1;33m=\u001b[0m \u001b[0mcurr_referee\u001b[0m\u001b[1;33m\u001b[0m\u001b[1;33m\u001b[0m\u001b[0m\n\u001b[0;32m     33\u001b[0m         \u001b[1;32melse\u001b[0m\u001b[1;33m:\u001b[0m\u001b[1;33m\u001b[0m\u001b[1;33m\u001b[0m\u001b[0m\n\u001b[1;32m---> 34\u001b[1;33m             curr_match = Match(home_team, away_team, fthg, ftag, ftr, hthg, htag, htr, \n\u001b[0m\u001b[0;32m     35\u001b[0m                            referee, hts, ats, hst, ast, hf, af, hc, ac, hy, ay, hr, ar)\n\u001b[0;32m     36\u001b[0m             \u001b[0mreferees\u001b[0m\u001b[1;33m[\u001b[0m\u001b[0mreferee\u001b[0m\u001b[1;33m]\u001b[0m\u001b[1;33m.\u001b[0m\u001b[0madd_all\u001b[0m\u001b[1;33m(\u001b[0m\u001b[1;33m[\u001b[0m\u001b[0mhy\u001b[0m\u001b[1;33m,\u001b[0m \u001b[0may\u001b[0m\u001b[1;33m,\u001b[0m \u001b[0mhr\u001b[0m\u001b[1;33m,\u001b[0m \u001b[0mar\u001b[0m\u001b[1;33m]\u001b[0m\u001b[1;33m,\u001b[0m \u001b[0mcurr_match\u001b[0m\u001b[1;33m)\u001b[0m\u001b[1;33m\u001b[0m\u001b[1;33m\u001b[0m\u001b[0m\n",
      "\u001b[1;31mNameError\u001b[0m: name 'Match' is not defined"
     ]
    }
   ],
   "source": [
    "# slovar {\"ime priimek\": objekt}\n",
    "referees = {}\n",
    "def read_data(data):\n",
    "    for row in data:\n",
    "        div = row[\"Div\"]\n",
    "        date = row[\"Date\"]\n",
    "        home_team = row[\"HomeTeam\"]\n",
    "        away_team = row[\"AwayTeam\"]\n",
    "        fthg = row[\"FTHG\"]\n",
    "        ftag = row[\"FTAG\"]\n",
    "        ftr = row[\"FTR\"]\n",
    "        hthg = row[\"HTHG\"]\n",
    "        htag = row[\"HTAG\"]\n",
    "        htr = row[\"HTR\"]\n",
    "        referee = row[\"Referee\"]\n",
    "        hts = row[\"HS\"]\n",
    "        ats = row[\"AS\"]\n",
    "        hst = row[\"HST\"]\n",
    "        ast = row[\"AST\"]\n",
    "        hf = row[\"HF\"]\n",
    "        af = row[\"AF\"]\n",
    "        hc = row[\"HC\"]\n",
    "        ac = row[\"AC\"]\n",
    "        hy = row[\"HY\"]\n",
    "        ay = row[\"AY\"]\n",
    "        hr = row[\"HR\"]\n",
    "        ar = row[\"AR\"]\n",
    "    \n",
    "        curr_referee = Referee(referee)\n",
    "        print(curr_referee.to_string())\n",
    "        if referee not in referees.keys():\n",
    "            referees[referee] = curr_referee\n",
    "        else:\n",
    "            curr_match = Match(home_team, away_team, fthg, ftag, ftr, hthg, htag, htr, \n",
    "                           referee, hts, ats, hst, ast, hf, af, hc, ac, hy, ay, hr, ar)\n",
    "            referees[referee].add_all([hy, ay, hr, ar], curr_match)\n",
    "    \n",
    "    \n",
    "#    print(f\"{home_team}   {away_team}\")\n",
    "read_data(season16_17)\n",
    "read_data(season17_18)\n",
    "read_data(season18_19)"
   ]
  },
  {
   "cell_type": "code",
   "execution_count": null,
   "metadata": {},
   "outputs": [],
   "source": []
  }
 ],
 "metadata": {
  "kernelspec": {
   "display_name": "Python 3",
   "language": "python",
   "name": "python3"
  },
  "language_info": {
   "codemirror_mode": {
    "name": "ipython",
    "version": 3
   },
   "file_extension": ".py",
   "mimetype": "text/x-python",
   "name": "python",
   "nbconvert_exporter": "python",
   "pygments_lexer": "ipython3",
   "version": "3.8.2"
  },
  "latex_envs": {
   "LaTeX_envs_menu_present": true,
   "autoclose": false,
   "autocomplete": true,
   "bibliofile": "biblio.bib",
   "cite_by": "apalike",
   "current_citInitial": 1,
   "eqLabelWithNumbers": true,
   "eqNumInitial": 1,
   "hotkeys": {
    "equation": "Ctrl-E",
    "itemize": "Ctrl-I"
   },
   "labels_anchors": false,
   "latex_user_defs": false,
   "report_style_numbering": false,
   "user_envs_cfg": false
  },
  "nbTranslate": {
   "displayLangs": [
    "*"
   ],
   "hotkey": "alt-t",
   "langInMainMenu": true,
   "sourceLang": "en",
   "targetLang": "fr",
   "useGoogleTranslate": true
  }
 },
 "nbformat": 4,
 "nbformat_minor": 4
}
