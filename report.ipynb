{
 "cells": [
  {
   "cell_type": "markdown",
   "metadata": {},
   "source": [
    "## PR20ZJMHZK\n",
    "\n",
    "# Projektna naloga: Analiza angleške Premier lige - Končno poročilo\n",
    "\n",
    "---\n",
    "\n",
    "### Skupina\n",
    "\n",
    "* Žan Korošak\n",
    "* Žan Jurečič\n",
    "* Matic Hrastelj\n",
    "\n",
    "---\n",
    "\n",
    "## 1. Opis problema\n",
    "\n",
    "V projektni nalogi smo želeli analizirati in prikazati različne podatke in relacije med njimi z grafi za angleško Premier ligo (nogomet).  \n",
    "Želeli smo prikazati kako se ekipe \"obnašajo\" skozi sezono, npr. če število sodniških kazni vpliva na kočno razvrstitev ekip, kako so povezane igre doma in v gosteh - kje klubi boljše igrajo in pridobijo več točk.  \n",
    "Kakšno je razmerje med prejetimi in zadetimi goli in kaj to pove o sami strukturi oziroma o igranju ekipe.  \n",
    "Prikazati smo želeli tudi kako se je spreminjala lestvica klubov skozi sezono ter ali je mogoče glede na atribute posameznih igralcev pridobiti kakšne povezave med njimi - pozicije.\n",
    "\n",
    "---\n",
    "\n",
    "## 2. Podatki\n",
    "\n",
    "Uporabili smo podatke igranih tekem angleške Premier lige iz sezon od leta 2015 do leta 2019. Te podatke smo pridobili iz spletne strani [Datahub.io](https://datahub.io/sports-data/english-premier-league).  \n",
    "Podatki so v .csv formatu in imajo zelo veliko atributov kot tudi samih primerov, zato je bilo podatkov dovolj, da smo naredili podrobnejše grafe. Glavni sklopi teh podatkov so ekipe in njihove statistike (streli, zadetki na gol, prekrški, ...), statistike samih tekem (datum, rezultat polčasa, rezultat cele igre - zmagovalec, poraženec, ...), podatki o sodniku ter podatki o nekaterih stavnicah. Natančnejši opis podatkov/atributov [tukaj](./osnutek.md).  \n",
    "    \n",
    "Poleg tega pa smo uporabili tudi podatke posameznih igralec v angleški Premier ligi za sezono 2018/2019. Te podatke smo pridobili s spletne strani [Kaggle](https://kaggle.com/adithyarganesh/english-premier-league-player-data-20182019/data).  \n",
    "Te podatke smo uporabili za grupiranje posameznih igralcev glede na njihove atribute - ali se iz njih da razbrati na kateri pozicij v tekmi so. Tudi tukaj je atributov veliko kot tudi samih igralcev (primerov). Nekateri izmed atributov so: goli, zmage, izgube, streli, zadetki, asistence, \"team play\", ....  \n",
    "    \n",
    "**Oblika podatkov za uporabo**  \n",
    "Podatke smo iz .csv formata preoblikovali v razrede v Pythonu, tako da smo uporabili funkcijo DictReader, s katero smo .csv prebrali in preoblikovali pridobljene podatke v razrede.\n",
    "\n",
    "---\n",
    "\n",
    "## 3. Izvedene analize in rezultati\n"
   ]
  },
  {
   "cell_type": "code",
   "execution_count": null,
   "metadata": {},
   "outputs": [],
   "source": []
  }
 ],
 "metadata": {
  "kernelspec": {
   "display_name": "Python 3",
   "language": "python",
   "name": "python3"
  },
  "language_info": {
   "codemirror_mode": {
    "name": "ipython",
    "version": 3
   },
   "file_extension": ".py",
   "mimetype": "text/x-python",
   "name": "python",
   "nbconvert_exporter": "python",
   "pygments_lexer": "ipython3",
   "version": "3.7.0"
  },
  "latex_envs": {
   "LaTeX_envs_menu_present": true,
   "autoclose": false,
   "autocomplete": true,
   "bibliofile": "biblio.bib",
   "cite_by": "apalike",
   "current_citInitial": 1,
   "eqLabelWithNumbers": true,
   "eqNumInitial": 1,
   "hotkeys": {
    "equation": "Ctrl-E",
    "itemize": "Ctrl-I"
   },
   "labels_anchors": false,
   "latex_user_defs": false,
   "report_style_numbering": false,
   "user_envs_cfg": false
  },
  "nbTranslate": {
   "displayLangs": [
    "*"
   ],
   "hotkey": "alt-t",
   "langInMainMenu": true,
   "sourceLang": "en",
   "targetLang": "fr",
   "useGoogleTranslate": true
  }
 },
 "nbformat": 4,
 "nbformat_minor": 2
}
