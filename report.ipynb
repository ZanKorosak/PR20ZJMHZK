{
 "cells": [
  {
   "cell_type": "markdown",
   "metadata": {},
   "source": [
    "## PR20ZJMHZK\n",
    "\n",
    "# Projektna naloga: Analiza angleške Premier lige - Končno poročilo\n",
    "\n",
    "---\n",
    "\n",
    "### Skupina\n",
    "\n",
    "* Žan Korošak\n",
    "* Žan Jurečič\n",
    "* Matic Hrastelj\n",
    "\n",
    "---\n",
    "\n",
    "## 1. Opis problema\n",
    "\n",
    "V projektni nalogi smo želeli analizirati in prikazati različne podatke in relacije med njimi z grafi za angleško Premier ligo (nogomet).  \n",
    "Želeli smo prikazati kako se ekipe \"obnašajo\" skozi sezono, npr. če število sodniških kazni vpliva na kočno razvrstitev ekip, kako so povezane igre doma in v gosteh - kje klubi boljše igrajo in pridobijo več točk.  \n",
    "Kakšno je razmerje med prejetimi in zadetimi goli in kaj to pove o sami strukturi oziroma o igranju ekipe.  \n",
    "Prikazati smo želeli tudi kako se je spreminjala lestvica klubov skozi sezono ter ali je mogoče glede na atribute posameznih igralcev pridobiti kakšne povezave med njimi - pozicije.\n",
    "\n",
    "---\n",
    "\n",
    "## 2. Podatki\n",
    "\n",
    "Uporabili smo podatke igranih tekem angleške Premier lige iz sezon od leta 2015 do leta 2019. Te podatke smo pridobili iz spletne strani [Datahub.io](https://datahub.io/sports-data/english-premier-league).  \n",
    "Podatki so v .csv formatu in imajo zelo veliko atributov kot tudi samih primerov, zato je bilo podatkov dovolj, da smo naredili podrobnejše grafe. Glavni sklopi teh podatkov so ekipe in njihove statistike (streli, zadetki na gol, prekrški, ...), statistike samih tekem (datum, rezultat polčasa, rezultat cele igre - zmagovalec, poraženec, ...), podatki o sodniku ter podatki o nekaterih stavnicah. Natančnejši opis podatkov/atributov [tukaj](./osnutek.md).  \n",
    "    \n",
    "Poleg tega pa smo uporabili tudi podatke posameznih igralec v angleški Premier ligi za sezono 2018/2019. Te podatke smo pridobili s spletne strani [Kaggle](https://kaggle.com/adithyarganesh/english-premier-league-player-data-20182019/data).  \n",
    "Te podatke smo uporabili za grupiranje posameznih igralcev glede na njihove atribute - ali se iz njih da razbrati na kateri pozicij v tekmi so. Tudi tukaj je atributov veliko kot tudi samih igralcev (primerov). Nekateri izmed atributov so: goli, zmage, izgube, streli, zadetki, asistence, \"team play\", ....  \n",
    "    \n",
    "**Oblika podatkov za uporabo**  \n",
    "Podatke smo iz .csv formata preoblikovali v razrede v Pythonu, tako da smo uporabili funkcijo DictReader, s katero smo .csv prebrali in preoblikovali pridobljene podatke v razrede.\n",
    "\n",
    "---\n",
    "\n",
    "## 3. Izvedene analize in rezultati\n",
    "\n",
    "### * Prejšnji rezultati\n",
    "\n",
    "Prikaz podatkov o točkah ekip na tekmah in skupnih točkah ob koncu sezone, kot tudi sojene tekme sodnikov in število in vrsta kartonov za prekrške si lahko ogledate v [vmesnem poročilu](./README.md).\n",
    "\n",
    "### * Prekrški na klub\n",
    "\n",
    "![Število prekrškov na klub](./images/slika6.png)  \n",
    "\n",
    "Graf prikazuje število storjenih prekrškov za vsak klub, ter kolikšen del teh prekrškov je bil kaznovan z rumenim ter rdečim kartonom.  \n",
    "  \n",
    "Graf nam da približno idejo o filozofiji igre v posameznih klubih. Lahko rečemo, da klubi ki so v spodnji polovici (Liverpool, Man City, Chelsea) igrajo posestno igro, torej igrajo na to da držijo žogo pri sebi skozi večino tekme. To tudi pomeni, da bodo težje storili prekršek če nasprotnik nima žoge v posesti. Mogoče je tudi, da so ekipe premalo agresivne, kar je pogosto pri ekipah, ki se borijo za obstanek.  \n",
    "  \n",
    "Ekipe, ki so v zgornjem delu tega grafa so ekipe, ki igrajo predvsem agresivno igro, ki temelji na razbijanju nasprotnikove igre preden nasprotnikova akcija dejansko postane nevarna. Taka filozofija je zelo pogosta pri klubih v angleški ligi, je pa zelo zahtevna za igralce, saj morajo biti fizično v zelo dobri formi skozi sezono.  \n",
    "  \n",
    "  \n",
    "### * Doseženi goli, točke doma in v gosteh v sezoni 18/19\n",
    "\n",
    "Spodnja grafa opisujeta kako domači stadion vpliva na igro ekip. Domači teren bi v teoriji moral vedno prevladati igro v gosteh, sploh v največjih ligah, zaradi človeške psihologije.\n",
    "\n",
    "![Doseženi goli doma in v gosteh v sezoni 18/19](./images/slika7.png)\n",
    "\n",
    "Na zgornjem grafu vidimo kako so ekipe izkoristile domači teren za dosegovanje zadetkov. Kot pričakovano je večini ekip udobneje igrati na domačem terenu, kjer imajo prednost zaradi navijačev. Vidimo pa da so nekatere izjeme, kot so Crystal Palace ter Leicester, ki so v gosteh dosegli več ali enako zadetkov kot doma.\n",
    "\n",
    "![Nabrane točke doma in v gosteh v sezoni 18/19](./images/slika8.png)\n",
    "\n",
    "Zgornji graf podobno prikazuje kako so ekipe izkoristile domači teren vendar tokrat za zmage na tekmah. Kot na prjšnjem grafu je pričakovano da ekipa več tekem zmaga doma, kar tudi vidimo v podobnosti s prejšnjim grafom.  \n",
    "  \n",
    "Vseeno pa vidimo razlike sploh na vrhu lestvice, kjer sta Liverpool in Man City dosegla zelo veliko točk v gosteh, čeprav njuno število golov ne odstopa preveč od drugih ekip. Iz tega lahko sklepamo, da imata obe ekipi zelo dobro obrambo.  \n",
    "  \n",
    "  \n",
    "### * Učinkovitost ekip"
   ]
  },
  {
   "cell_type": "code",
   "execution_count": null,
   "metadata": {},
   "outputs": [],
   "source": []
  }
 ],
 "metadata": {
  "kernelspec": {
   "display_name": "Python 3",
   "language": "python",
   "name": "python3"
  },
  "language_info": {
   "codemirror_mode": {
    "name": "ipython",
    "version": 3
   },
   "file_extension": ".py",
   "mimetype": "text/x-python",
   "name": "python",
   "nbconvert_exporter": "python",
   "pygments_lexer": "ipython3",
   "version": "3.7.0"
  },
  "latex_envs": {
   "LaTeX_envs_menu_present": true,
   "autoclose": false,
   "autocomplete": true,
   "bibliofile": "biblio.bib",
   "cite_by": "apalike",
   "current_citInitial": 1,
   "eqLabelWithNumbers": true,
   "eqNumInitial": 1,
   "hotkeys": {
    "equation": "Ctrl-E",
    "itemize": "Ctrl-I"
   },
   "labels_anchors": false,
   "latex_user_defs": false,
   "report_style_numbering": false,
   "user_envs_cfg": false
  },
  "nbTranslate": {
   "displayLangs": [
    "*"
   ],
   "hotkey": "alt-t",
   "langInMainMenu": true,
   "sourceLang": "en",
   "targetLang": "fr",
   "useGoogleTranslate": true
  }
 },
 "nbformat": 4,
 "nbformat_minor": 2
}
